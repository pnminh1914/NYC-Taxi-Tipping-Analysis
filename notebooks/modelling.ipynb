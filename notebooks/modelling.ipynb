{
 "cells": [
  {
   "cell_type": "code",
   "execution_count": 1,
   "metadata": {},
   "outputs": [],
   "source": [
    "import os\n",
    "os.environ['JAVA_HOME'] = '/opt/homebrew/Cellar/openjdk/22.0.2/libexec/openjdk.jdk/Contents/Home'"
   ]
  },
  {
   "cell_type": "markdown",
   "metadata": {},
   "source": [
    "## Importing libraries"
   ]
  },
  {
   "cell_type": "code",
   "execution_count": 2,
   "metadata": {},
   "outputs": [],
   "source": [
    "from pyspark.sql import SparkSession\n",
    "from pyspark.ml.linalg import Vectors\n",
    "from pyspark.ml.feature import VectorAssembler\n",
    "from pyspark.sql import functions as F\n",
    "from pyspark.ml.regression import LinearRegression\n",
    "from pyspark.ml.regression import RandomForestRegressor\n",
    "from pyspark.ml.evaluation import RegressionEvaluator\n",
    "import numpy as np\n",
    "import matplotlib.pyplot as plt\n",
    "import seaborn as sns"
   ]
  },
  {
   "cell_type": "code",
   "execution_count": 3,
   "metadata": {},
   "outputs": [
    {
     "name": "stderr",
     "output_type": "stream",
     "text": [
      "Setting default log level to \"WARN\".\n",
      "To adjust logging level use sc.setLogLevel(newLevel). For SparkR, use setLogLevel(newLevel).\n",
      "24/08/20 17:12:21 WARN NativeCodeLoader: Unable to load native-hadoop library for your platform... using builtin-java classes where applicable\n"
     ]
    }
   ],
   "source": [
    "# Initialize spark session\n",
    "spark = (\n",
    "    SparkSession.builder.appName(\"MAST30034 Project 1 modelling\")\n",
    "    .config(\"spark.sql.repl.eagerEval.enabled\", True) \n",
    "    .config(\"spark.sql.parquet.cacheMetadata\", \"true\")\n",
    "    .config(\"spark.sql.session.timeZone\", \"Etc/UTC\")\n",
    "    .config(\"spark.driver.memory\", \"16g\") \n",
    "    .config(\"spark.executor.memory\", \"16g\")\n",
    "    .config(\"spark.executor.cores\", \"2\")\n",
    "    .getOrCreate()\n",
    ")"
   ]
  },
  {
   "cell_type": "code",
   "execution_count": 4,
   "metadata": {},
   "outputs": [],
   "source": [
    "data = spark.read.parquet('../data/curated/')"
   ]
  },
  {
   "cell_type": "markdown",
   "metadata": {},
   "source": [
    "## Transforming data to perform regression"
   ]
  },
  {
   "cell_type": "code",
   "execution_count": 5,
   "metadata": {},
   "outputs": [],
   "source": [
    "label = 'tip_amount'\n",
    "    \n",
    "data = data.na.fill(0) # Fix spark problem while fitting the model\n",
    "            \n",
    "predictors = ['trip_distance', 'fare_amount', 'tolls_amount', 'total_amount', 'airport_fee', 'trip_duration_minutes', 'tmp', 'dew', 'atm']\n",
    "    \n",
    "# Apply assembler\n",
    "feature_columns = predictors\n",
    "assembler = VectorAssembler(inputCols = feature_columns, outputCol = \"predictors\")\n",
    "data = assembler.transform(data)\n",
    "\n",
    "# Splitdata into train and test datasets\n",
    "train_data = data.filter(F.col('pickup_date') <= '2023-11-30')\n",
    "test_data = data.filter(F.col('pickup_date') >= '2023-12-01')\n",
    "    "
   ]
  },
  {
   "cell_type": "markdown",
   "metadata": {},
   "source": [
    "## Spliting transformed data into boroughs"
   ]
  },
  {
   "cell_type": "code",
   "execution_count": 6,
   "metadata": {},
   "outputs": [],
   "source": [
    "import pandas as pd\n",
    "\n",
    "lookup = pd.read_csv('../data/taxi_zones/taxi_zone_lookup.csv')\n",
    "lookup = lookup.dropna()\n",
    "boroughs = set(lookup['Borough'])\n",
    "\n",
    "borough_data = {}\n",
    "\n",
    "for borough in boroughs:\n",
    "    borough_data[borough] = [train_data.filter(F.col('PUZone') == borough)]\n",
    "    borough_data[borough].append(test_data.filter(F.col('PUZone') == borough))"
   ]
  },
  {
   "cell_type": "markdown",
   "metadata": {},
   "source": [
    "Checking train and test datasets size"
   ]
  },
  {
   "cell_type": "code",
   "execution_count": 7,
   "metadata": {},
   "outputs": [
    {
     "name": "stderr",
     "output_type": "stream",
     "text": [
      "                                                                                \r"
     ]
    },
    {
     "name": "stdout",
     "output_type": "stream",
     "text": [
      "Brooklyn 128349 13880\n",
      "Manhattan 22850575 2137527\n",
      "Queens 2407383 199168\n",
      "Bronx 35445 3889\n",
      "Staten Island 1160 6\n",
      "EWR 182 11\n"
     ]
    }
   ],
   "source": [
    "for key, item in borough_data.items():\n",
    "    print(key, item[0].count(), item[1].count())"
   ]
  },
  {
   "cell_type": "markdown",
   "metadata": {},
   "source": [
    "## Linear Regression "
   ]
  },
  {
   "cell_type": "code",
   "execution_count": 8,
   "metadata": {},
   "outputs": [],
   "source": [
    "def linear_regression_fit(data):\n",
    "    \"\"\"This function accepts a train dataset as input, fits a Linear Regression model with this dataset, and returns the model.\"\"\"\n",
    "    \n",
    "    label = 'tip_amount'\n",
    "    \n",
    "    # Linear Regression fitting, LASSO\n",
    "    lr = LinearRegression(featuresCol = \"predictors\", labelCol = label, regParam = 0.1, elasticNetParam = 1.0)\n",
    "    \n",
    "    lr_model = lr.fit(data)\n",
    "    return lr_model\n",
    "\n",
    "\n",
    "def predict_and_evaluate(model, test_data, borough): \n",
    "    \"\"\"This function accepts a Linear Regression model, a test dataset and a string, borough name, as inputs, \n",
    "        predicts the test dataset, evaluates the test dataset, and return predictions\"\"\"\n",
    "    \n",
    "    predictions = model.transform(test_data)\n",
    "    summary = model.evaluate(test_data)\n",
    "    \n",
    "    print(borough)\n",
    "    print(\"Test RMSE: %f\" % summary.rootMeanSquaredError)\n",
    "    print(\"Test R2: %f\" % summary.r2)\n",
    "    \n",
    "    return predictions\n",
    "    "
   ]
  },
  {
   "cell_type": "code",
   "execution_count": 9,
   "metadata": {},
   "outputs": [
    {
     "name": "stderr",
     "output_type": "stream",
     "text": [
      "24/08/20 17:12:29 WARN InstanceBuilder: Failed to load implementation from:dev.ludovic.netlib.blas.JNIBLAS\n",
      "24/08/20 17:12:29 WARN InstanceBuilder: Failed to load implementation from:dev.ludovic.netlib.blas.VectorBLAS\n",
      "24/08/20 17:12:35 WARN GarbageCollectionMetrics: To enable non-built-in garbage collector(s) List(G1 Concurrent GC), users should configure it(them) to spark.eventLog.gcMetrics.youngGenerationGarbageCollectors or spark.eventLog.gcMetrics.oldGenerationGarbageCollectors\n",
      "                                                                                \r"
     ]
    },
    {
     "name": "stdout",
     "output_type": "stream",
     "text": [
      "Brooklyn\n",
      "Test RMSE: 1.238588\n",
      "Test R2: 0.906261\n",
      "trip_distance: -0.051830703079592255\n",
      "fare_amount: -0.5443334318216667\n",
      "tolls_amount: -0.5863518365238028\n",
      "total_amount: 0.6054355994689725\n",
      "airport_fee: 0.0\n",
      "trip_duration_minutes: -0.01755703256243488\n",
      "tmp: 0.0\n",
      "dew: 0.0\n",
      "atm: 0.0\n"
     ]
    },
    {
     "name": "stderr",
     "output_type": "stream",
     "text": [
      "                                                                                \r"
     ]
    },
    {
     "name": "stdout",
     "output_type": "stream",
     "text": [
      "Manhattan\n",
      "Test RMSE: 1.619997\n",
      "Test R2: 0.686535\n",
      "trip_distance: 0.0\n",
      "fare_amount: 0.0\n",
      "tolls_amount: 0.0\n",
      "total_amount: 0.14928743930745728\n",
      "airport_fee: 0.0\n",
      "trip_duration_minutes: 0.0\n",
      "tmp: 0.0\n",
      "dew: 0.0\n",
      "atm: 0.0\n"
     ]
    },
    {
     "name": "stderr",
     "output_type": "stream",
     "text": [
      "                                                                                \r"
     ]
    },
    {
     "name": "stdout",
     "output_type": "stream",
     "text": [
      "Queens\n",
      "Test RMSE: 2.278059\n",
      "Test R2: 0.845590\n",
      "trip_distance: 0.0\n",
      "fare_amount: -0.4911856048262145\n",
      "tolls_amount: -0.6868242600986298\n",
      "total_amount: 0.5993377041038438\n",
      "airport_fee: -0.9687013895716717\n",
      "trip_duration_minutes: -0.005139759863084699\n",
      "tmp: 0.0\n",
      "dew: 0.0\n",
      "atm: 0.0\n"
     ]
    },
    {
     "name": "stderr",
     "output_type": "stream",
     "text": [
      "                                                                                \r"
     ]
    },
    {
     "name": "stdout",
     "output_type": "stream",
     "text": [
      "Bronx\n",
      "Test RMSE: 1.119263\n",
      "Test R2: 0.587217\n",
      "trip_distance: -0.05411393769682416\n",
      "fare_amount: -0.30629075799479333\n",
      "tolls_amount: -0.3506510710200275\n",
      "total_amount: 0.35748761516934086\n",
      "airport_fee: 0.0\n",
      "trip_duration_minutes: -0.011817342835410128\n",
      "tmp: 0.0\n",
      "dew: 0.0\n",
      "atm: 0.0\n"
     ]
    },
    {
     "name": "stderr",
     "output_type": "stream",
     "text": [
      "                                                                                \r"
     ]
    },
    {
     "name": "stdout",
     "output_type": "stream",
     "text": [
      "Staten Island\n",
      "Test RMSE: 2.458300\n",
      "Test R2: 0.894181\n",
      "trip_distance: -0.04147306881022963\n",
      "fare_amount: -0.6735686465873599\n",
      "tolls_amount: -0.7239525890995463\n",
      "total_amount: 0.7134751219359174\n",
      "airport_fee: 0.0\n",
      "trip_duration_minutes: -0.006620894704435028\n",
      "tmp: 0.0\n",
      "dew: 0.0\n",
      "atm: 0.0\n"
     ]
    },
    {
     "name": "stderr",
     "output_type": "stream",
     "text": [
      "[Stage 71:===================================================>     (9 + 1) / 10]\r"
     ]
    },
    {
     "name": "stdout",
     "output_type": "stream",
     "text": [
      "EWR\n",
      "Test RMSE: 2.024168\n",
      "Test R2: 0.953304\n",
      "trip_distance: -0.0466642346667316\n",
      "fare_amount: -0.8548601907161599\n",
      "tolls_amount: -0.8214679810400365\n",
      "total_amount: 0.875477730696067\n",
      "airport_fee: 0.0\n",
      "trip_duration_minutes: -0.0019055739649013854\n",
      "tmp: -0.0020587309161325625\n",
      "dew: 0.0\n",
      "atm: 0.0\n"
     ]
    },
    {
     "name": "stderr",
     "output_type": "stream",
     "text": [
      "                                                                                \r"
     ]
    }
   ],
   "source": [
    "# Get the feature names to match with coefficients\n",
    "feature_names = assembler.getInputCols()\n",
    "\n",
    "for key, value in borough_data.items():\n",
    "    \n",
    "    train_data, test_data = value[0], value[1]\n",
    "    \n",
    "    # Perform Linear Regression\n",
    "    linear_model = linear_regression_fit(train_data)\n",
    "    predictions = predict_and_evaluate(linear_model, test_data, key)\n",
    "    borough_data[key].append(predictions)\n",
    "    \n",
    "    # Extract the coefficients for the model\n",
    "    coefficients = linear_model.coefficients\n",
    "    feature_coefficients = list(zip(feature_names, coefficients))\n",
    "    for feature, coefficient in feature_coefficients:\n",
    "        print(f\"{feature}: {coefficient}\")"
   ]
  },
  {
   "cell_type": "markdown",
   "metadata": {},
   "source": [
    "## Random Forest Regression"
   ]
  },
  {
   "cell_type": "code",
   "execution_count": 10,
   "metadata": {},
   "outputs": [],
   "source": [
    "def random_forest_regression_fit(data):\n",
    "    \"\"\"This function accepts a train dataset as input, fits a Random Forest Regression model with this dataset, and returns the model.\"\"\"\n",
    "    \n",
    "    label = 'tip_amount'\n",
    "    \n",
    "    # Random Forest fitting\n",
    "    rf = RandomForestRegressor(featuresCol = \"predictors\", labelCol=label)\n",
    "    \n",
    "    rf_model = rf.fit(data)\n",
    "    return rf_model\n",
    "\n",
    "def evaluate(predictions):\n",
    "    \"\"\"This function accepts a predictions dataframe and evaluates those predictions\"\"\"    \n",
    "\n",
    "    evaluator_rmse = RegressionEvaluator(\n",
    "        labelCol = \"tip_amount\", \n",
    "        predictionCol = \"prediction\", \n",
    "        metricName = \"rmse\"\n",
    "    )\n",
    "    rmse = evaluator_rmse.evaluate(predictions)\n",
    "    print(f\"Root Mean Squared Error (RMSE): {rmse}\")\n",
    "\n",
    "    evaluator_r2 = RegressionEvaluator(\n",
    "            labelCol = 'tip_amount', \n",
    "            predictionCol = \"prediction\", \n",
    "            metricName = \"r2\"\n",
    "        )\n",
    "    r2 = evaluator_r2.evaluate(predictions)\n",
    "    print(f\"R2: {r2}\")"
   ]
  },
  {
   "cell_type": "code",
   "execution_count": 11,
   "metadata": {},
   "outputs": [
    {
     "name": "stderr",
     "output_type": "stream",
     "text": [
      "                                                                                \r"
     ]
    },
    {
     "name": "stdout",
     "output_type": "stream",
     "text": [
      "Brooklyn\n"
     ]
    },
    {
     "name": "stderr",
     "output_type": "stream",
     "text": [
      "                                                                                \r"
     ]
    },
    {
     "name": "stdout",
     "output_type": "stream",
     "text": [
      "Root Mean Squared Error (RMSE): 2.813839640467843\n"
     ]
    },
    {
     "name": "stderr",
     "output_type": "stream",
     "text": [
      "                                                                                \r"
     ]
    },
    {
     "name": "stdout",
     "output_type": "stream",
     "text": [
      "R2: 0.516201905751756\n",
      "trip_distance: 0.07399958938965083\n",
      "fare_amount: 0.19833053115535018\n",
      "tolls_amount: 0.0314037768007474\n",
      "total_amount: 0.5126930269637114\n",
      "airport_fee: 0.001453210492930856\n",
      "trip_duration_minutes: 0.17718557264389395\n",
      "tmp: 0.003167050374995541\n",
      "dew: 0.0011647169331120988\n",
      "atm: 0.0006025252456078586\n"
     ]
    },
    {
     "name": "stderr",
     "output_type": "stream",
     "text": [
      "                                                                                \r"
     ]
    },
    {
     "name": "stdout",
     "output_type": "stream",
     "text": [
      "Manhattan\n"
     ]
    },
    {
     "name": "stderr",
     "output_type": "stream",
     "text": [
      "                                                                                \r"
     ]
    },
    {
     "name": "stdout",
     "output_type": "stream",
     "text": [
      "Root Mean Squared Error (RMSE): 1.7172143366359012\n"
     ]
    },
    {
     "name": "stderr",
     "output_type": "stream",
     "text": [
      "                                                                                \r"
     ]
    },
    {
     "name": "stdout",
     "output_type": "stream",
     "text": [
      "R2: 0.6477839377813255\n",
      "trip_distance: 0.19790276043873875\n",
      "fare_amount: 0.24029676220712068\n",
      "tolls_amount: 0.11872966125146252\n",
      "total_amount: 0.36141529807581163\n",
      "airport_fee: 0.0\n",
      "trip_duration_minutes: 0.08155118703213267\n",
      "tmp: 4.35043103780264e-05\n",
      "dew: 3.517984027550177e-05\n",
      "atm: 2.564684408022649e-05\n"
     ]
    },
    {
     "name": "stderr",
     "output_type": "stream",
     "text": [
      "                                                                                \r"
     ]
    },
    {
     "name": "stdout",
     "output_type": "stream",
     "text": [
      "Queens\n"
     ]
    },
    {
     "name": "stderr",
     "output_type": "stream",
     "text": [
      "                                                                                \r"
     ]
    },
    {
     "name": "stdout",
     "output_type": "stream",
     "text": [
      "Root Mean Squared Error (RMSE): 3.5106454003602527\n"
     ]
    },
    {
     "name": "stderr",
     "output_type": "stream",
     "text": [
      "                                                                                \r"
     ]
    },
    {
     "name": "stdout",
     "output_type": "stream",
     "text": [
      "R2: 0.633292122596704\n",
      "trip_distance: 0.1363352826836469\n",
      "fare_amount: 0.16046346617573684\n",
      "tolls_amount: 0.03800184251530857\n",
      "total_amount: 0.5950311966123993\n",
      "airport_fee: 0.013903095237300767\n",
      "trip_duration_minutes: 0.05601520124568049\n",
      "tmp: 0.00018153888433564342\n",
      "dew: 6.74173696990678e-05\n",
      "atm: 9.592758922322184e-07\n"
     ]
    },
    {
     "name": "stderr",
     "output_type": "stream",
     "text": [
      "                                                                                \r"
     ]
    },
    {
     "name": "stdout",
     "output_type": "stream",
     "text": [
      "Bronx\n"
     ]
    },
    {
     "name": "stderr",
     "output_type": "stream",
     "text": [
      "                                                                                \r"
     ]
    },
    {
     "name": "stdout",
     "output_type": "stream",
     "text": [
      "Root Mean Squared Error (RMSE): 1.345962441119931\n"
     ]
    },
    {
     "name": "stderr",
     "output_type": "stream",
     "text": [
      "                                                                                \r"
     ]
    },
    {
     "name": "stdout",
     "output_type": "stream",
     "text": [
      "R2: 0.40307106538460347\n",
      "trip_distance: 0.14729391587623158\n",
      "fare_amount: 0.2159906063596476\n",
      "tolls_amount: 0.06149523529764245\n",
      "total_amount: 0.4024662663353391\n",
      "airport_fee: 0.00853008479256306\n",
      "trip_duration_minutes: 0.11931319725286364\n",
      "tmp: 0.026079316481975846\n",
      "dew: 0.008828639820548965\n",
      "atm: 0.010002737783187702\n"
     ]
    },
    {
     "name": "stderr",
     "output_type": "stream",
     "text": [
      "                                                                                \r"
     ]
    },
    {
     "name": "stdout",
     "output_type": "stream",
     "text": [
      "Staten Island\n"
     ]
    },
    {
     "name": "stderr",
     "output_type": "stream",
     "text": [
      "                                                                                \r"
     ]
    },
    {
     "name": "stdout",
     "output_type": "stream",
     "text": [
      "Root Mean Squared Error (RMSE): 2.7474386368275496\n"
     ]
    },
    {
     "name": "stderr",
     "output_type": "stream",
     "text": [
      "                                                                                \r"
     ]
    },
    {
     "name": "stdout",
     "output_type": "stream",
     "text": [
      "R2: 0.867825258808725\n",
      "trip_distance: 0.04470616756727869\n",
      "fare_amount: 0.40168293637427605\n",
      "tolls_amount: 0.05752256249644144\n",
      "total_amount: 0.34344275985502776\n",
      "airport_fee: 0.0\n",
      "trip_duration_minutes: 0.06190274647246032\n",
      "tmp: 0.037741151901521316\n",
      "dew: 0.025867955609686095\n",
      "atm: 0.02713371972330848\n"
     ]
    },
    {
     "name": "stderr",
     "output_type": "stream",
     "text": [
      "                                                                                \r"
     ]
    },
    {
     "name": "stdout",
     "output_type": "stream",
     "text": [
      "EWR\n"
     ]
    },
    {
     "name": "stderr",
     "output_type": "stream",
     "text": [
      "                                                                                \r"
     ]
    },
    {
     "name": "stdout",
     "output_type": "stream",
     "text": [
      "Root Mean Squared Error (RMSE): 6.767167775324343\n"
     ]
    },
    {
     "name": "stderr",
     "output_type": "stream",
     "text": [
      "[Stage 179:==================================================>     (9 + 1) / 10]\r"
     ]
    },
    {
     "name": "stdout",
     "output_type": "stream",
     "text": [
      "R2: 0.4780882816922407\n",
      "trip_distance: 0.09061178919567776\n",
      "fare_amount: 0.13234143834103135\n",
      "tolls_amount: 0.08739461877130653\n",
      "total_amount: 0.3296340433803141\n",
      "airport_fee: 0.0\n",
      "trip_duration_minutes: 0.15186527591477045\n",
      "tmp: 0.05731000382849254\n",
      "dew: 0.0925432285962223\n",
      "atm: 0.05829960197218498\n"
     ]
    },
    {
     "name": "stderr",
     "output_type": "stream",
     "text": [
      "                                                                                \r"
     ]
    }
   ],
   "source": [
    "# Get the feature names to match with importances\n",
    "feature_names = assembler.getInputCols()\n",
    "\n",
    "for key, value in borough_data.items():\n",
    "    \n",
    "    train_data, test_data = value[0], value[1]\n",
    "    \n",
    "    # Perform Random Forest Regresison\n",
    "    rf_model = random_forest_regression_fit(train_data)\n",
    "    print(key)\n",
    "    predictions = rf_model.transform(test_data)\n",
    "    evaluate(predictions)\n",
    "    borough_data[key].append(predictions)\n",
    "    \n",
    "    # Extract the importances of features for the model\n",
    "    importances = rf_model.featureImportances\n",
    "    feature_importances = list(zip(feature_names, importances))\n",
    "    for feature, importance in feature_importances:\n",
    "        print(f\"{feature}: {importance}\")"
   ]
  },
  {
   "cell_type": "markdown",
   "metadata": {},
   "source": [
    "## Actual vs Linear Regression vs Random Forest Regresison visualisation"
   ]
  },
  {
   "cell_type": "code",
   "execution_count": 12,
   "metadata": {},
   "outputs": [
    {
     "name": "stderr",
     "output_type": "stream",
     "text": [
      "                                                                                \r"
     ]
    }
   ],
   "source": [
    "mean_tip_data = []\n",
    "\n",
    "for key, value in borough_data.items():\n",
    "    avg_actual = value[1].select('tip_amount').rdd.flatMap(lambda x: x).mean()\n",
    "    avg_linear_pred = value[2].select('prediction').rdd.flatMap(lambda x: x).mean()\n",
    "    avg_rf_pred = value[3].select('prediction').rdd.flatMap(lambda x: x).mean()\n",
    "    mean_tip_data.append([avg_actual, avg_linear_pred, avg_rf_pred])"
   ]
  },
  {
   "cell_type": "code",
   "execution_count": 14,
   "metadata": {},
   "outputs": [
    {
     "data": {
      "image/png": "[encoded data removed]",
      "text/plain": [
       "<Figure size 1000x600 with 1 Axes>"
      ]
     },
     "metadata": {},
     "output_type": "display_data"
    }
   ],
   "source": [
    "labels = list(borough_data.keys())\n",
    "columns = ['actual', 'linear', 'rf']\n",
    "\n",
    "# Sort the data by actual avg_tip_amount\n",
    "sorted_data = sorted(zip(labels, mean_tip_data), key=lambda x: x[1][0])\n",
    "labels, mean_tip_data = zip(*sorted_data)\n",
    "\n",
    "n_areas = len(mean_tip_data)\n",
    "n_columns = len(columns)\n",
    "\n",
    "x = np.arange(n_areas)\n",
    "width = 0.2 \n",
    "\n",
    "fig, ax = plt.subplots(figsize=(10, 6))\n",
    "\n",
    "for i in range(n_columns):\n",
    "    ax.bar(x + i * width, [area[i] for area in mean_tip_data], width, label=columns[i])\n",
    "\n",
    "ax.set_xlabel('Boroughs')\n",
    "ax.set_ylabel('Average tip amount')\n",
    "ax.set_title('Actual average tip amount vs linear prediction and random forest prediction')\n",
    "ax.set_xticks(x + width)\n",
    "ax.set_xticklabels(labels)\n",
    "ax.legend()\n",
    "\n",
    "plt.tight_layout()\n",
    "plt.savefig('../plots/bar_chart_tip_amount')\n",
    "plt.show()\n"
   ]
  },
  {
   "cell_type": "code",
   "execution_count": null,
   "metadata": {},
   "outputs": [],
   "source": [
    "avg_tip_per_mile = []\n",
    "\n",
    "for key, value in borough_data.items():\n",
    "    total_dist = value[1].select('trip_distance').rdd.flatMap(lambda x: x).sum()\n",
    "    avg_actual = value[1].select('tip_amount').rdd.flatMap(lambda x: x).sum()/total_dist\n",
    "    avg_linear_pred = value[2].select('prediction').rdd.flatMap(lambda x: x).sum()/total_dist\n",
    "    avg_rf_pred = value[3].select('prediction').rdd.flatMap(lambda x: x).sum()/total_dist\n",
    "    avg_tip_per_mile.append([avg_actual, avg_linear_pred, avg_rf_pred])"
   ]
  },
  {
   "cell_type": "code",
   "execution_count": 15,
   "metadata": {},
   "outputs": [
    {
     "data": {
      "image/png": "[encoded data removed]",
      "text/plain": [
       "<Figure size 1000x600 with 1 Axes>"
      ]
     },
     "metadata": {},
     "output_type": "display_data"
    }
   ],
   "source": [
    "labels = list(borough_data.keys())\n",
    "columns = ['actual', 'linear', 'rf']\n",
    "\n",
    "# Sort the data by actual avg_tip_per_mile\n",
    "sorted_data = sorted(zip(labels, avg_tip_per_mile), key=lambda x: x[1][0])\n",
    "labels, avg_tip_per_mile = zip(*sorted_data)\n",
    "\n",
    "n_areas = len(avg_tip_per_mile)\n",
    "n_columns = len(columns)\n",
    "\n",
    "x = np.arange(n_areas)\n",
    "width = 0.2  \n",
    "\n",
    "fig, ax = plt.subplots(figsize=(10, 6))\n",
    "\n",
    "for i in range(n_columns):\n",
    "    ax.bar(x + i * width, [area[i] for area in avg_tip_per_mile], width, label=columns[i])\n",
    "\n",
    "ax.set_xlabel('Boroughs')\n",
    "ax.set_ylabel('Average tip amount per mile')\n",
    "ax.set_title('Actual average tip amount per mile vs linear prediction and random forest prediction')\n",
    "ax.set_xticks(x + width)\n",
    "ax.set_xticklabels(labels)\n",
    "ax.legend()\n",
    "\n",
    "plt.tight_layout\n",
    "plt.savefig('../plots/bar_chart_tip_per_mile_amount')\n",
    "plt.show()"
   ]
  }
 ],
 "metadata": {
  "kernelspec": {
   "display_name": "Python 3.10.4 64-bit ('3.10.4')",
   "language": "python",
   "name": "python3"
  },
  "language_info": {
   "codemirror_mode": {
    "name": "ipython",
    "version": 3
   },
   "file_extension": ".py",
   "mimetype": "text/x-python",
   "name": "python",
   "nbconvert_exporter": "python",
   "pygments_lexer": "ipython3",
   "version": "3.10.4"
  },
  "orig_nbformat": 4,
  "vscode": {
   "interpreter": {
    "hash": "6857171c288a27f4076b69feee1624abed3d2b82ff763169396fbbf8c8e33653"
   }
  }
 },
 "nbformat": 4,
 "nbformat_minor": 2
}
