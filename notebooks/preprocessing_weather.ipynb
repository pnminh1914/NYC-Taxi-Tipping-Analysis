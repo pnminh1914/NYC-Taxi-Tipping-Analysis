{
 "cells": [
  {
   "cell_type": "markdown",
   "metadata": {},
   "source": [
    "## Importing libraries"
   ]
  },
  {
   "cell_type": "code",
   "execution_count": null,
   "metadata": {},
   "outputs": [],
   "source": [
    "import requests\n",
    "import pandas as pd\n",
    "import json\n",
    "import numpy as np\n",
    "import datetime as dt"
   ]
  },
  {
   "cell_type": "code",
   "execution_count": 2,
   "metadata": {},
   "outputs": [
    {
     "name": "stderr",
     "output_type": "stream",
     "text": [
      "/var/folders/tx/byxnmbjd375b6lk48n6v_1bc0000gn/T/ipykernel_18367/2014505126.py:1: DtypeWarning: Columns (36,42,43,48,52,88) have mixed types. Specify dtype option on import or set low_memory=False.\n",
      "  weather_df = pd.read_csv('../data/weather_central_park.csv')\n"
     ]
    }
   ],
   "source": [
    "weather_df = pd.read_csv('../data/weather/weather_central_park.csv')"
   ]
  },
  {
   "cell_type": "markdown",
   "metadata": {},
   "source": [
    "## Processing dataset"
   ]
  },
  {
   "cell_type": "markdown",
   "metadata": {},
   "source": [
    "Filtering data for our target period"
   ]
  },
  {
   "cell_type": "code",
   "execution_count": 4,
   "metadata": {},
   "outputs": [],
   "source": [
    "weather_df = weather_df[(weather_df['DATE'] >= '2023-01-01') & (weather_df['DATE'] <= '2023-12-31')]"
   ]
  },
  {
   "cell_type": "markdown",
   "metadata": {},
   "source": [
    "Selecting and scaling data"
   ]
  },
  {
   "cell_type": "code",
   "execution_count": 5,
   "metadata": {},
   "outputs": [
    {
     "name": "stderr",
     "output_type": "stream",
     "text": [
      "/var/folders/tx/byxnmbjd375b6lk48n6v_1bc0000gn/T/ipykernel_18367/2733000853.py:18: FutureWarning: Downcasting object dtype arrays on .fillna, .ffill, .bfill is deprecated and will change in a future version. Call result.infer_objects(copy=False) instead. To opt-in to the future behavior, set `pd.set_option('future.no_silent_downcasting', True)`\n",
      "  df.ffill(inplace=True)\n",
      "/var/folders/tx/byxnmbjd375b6lk48n6v_1bc0000gn/T/ipykernel_18367/2733000853.py:18: SettingWithCopyWarning: \n",
      "A value is trying to be set on a copy of a slice from a DataFrame\n",
      "\n",
      "See the caveats in the documentation: https://pandas.pydata.org/pandas-docs/stable/user_guide/indexing.html#returning-a-view-versus-a-copy\n",
      "  df.ffill(inplace=True)\n"
     ]
    }
   ],
   "source": [
    "# Get the hourly weather report type\n",
    "df = weather_df.loc[weather_df['REPORT_TYPE'] == 'FM-15', :]\n",
    "\n",
    "# Extract the unscaled values for each column\n",
    "df.loc[:,'WND'] = (df['WND'].apply(lambda x: int(x.split(',')[-2])/10)\n",
    "                            .replace(999.9, np.nan))\n",
    "\n",
    "df.loc[:,'TMP'] = (df['TMP'].apply(lambda x: int(x.split(',')[0])/10)\n",
    "                            .replace(999.9, np.nan))\n",
    "\n",
    "df.loc[:,'DEW'] = (df['DEW'].apply(lambda x: int(x.split(',')[0])/10)\n",
    "                            .replace(999.9, np.nan))\n",
    "\n",
    "df.loc[:,'SLP'] = (df['SLP'].apply(lambda x: int(x.split(',')[0])/10)\n",
    "                            .replace(9999.9, np.nan))\n",
    "\n",
    "# Impute missing data using data from an hour before\n",
    "df.ffill(inplace=True)\n",
    "\n",
    "# Filter data to period between 2023-01 to 2023-12\n",
    "processed_data = df.loc[(df['DATE'] >= '2023-01-01') & (df['DATE'] <= '2023-12-31'), :]\n",
    "\n",
    "# Extract date and hour from datetime column\n",
    "processed_data.loc[:,'date'] = pd.to_datetime(processed_data['DATE'])\n",
    "processed_data.loc[:,'hour'] = processed_data['date'].dt.hour\n",
    "processed_data.loc[:,'date'] = processed_data['date'].dt.date\n",
    "\n",
    "processed_data.rename({'WND':'wnd',\n",
    "                        'TMP':'tmp',\n",
    "                        'DEW':'dew',\n",
    "                        'SLP':'atm'},\n",
    "                        axis=1,\n",
    "                        inplace=True)\n",
    "\n",
    "\n",
    "processed_df =  processed_data[['date', 'hour', 'tmp', 'dew', 'atm']]\n",
    "\n",
    "# These preprocessing steps are inspired by Ming Hui Tan, 2022 MAST30034 Assignment 1, preprocessing jupyter notebook"
   ]
  },
  {
   "cell_type": "code",
   "execution_count": 10,
   "metadata": {},
   "outputs": [
    {
     "data": {
      "text/html": [
       "<div>\n",
       "<style scoped>\n",
       "    .dataframe tbody tr th:only-of-type {\n",
       "        vertical-align: middle;\n",
       "    }\n",
       "\n",
       "    .dataframe tbody tr th {\n",
       "        vertical-align: top;\n",
       "    }\n",
       "\n",
       "    .dataframe thead th {\n",
       "        text-align: right;\n",
       "    }\n",
       "</style>\n",
       "<table border=\"1\" class=\"dataframe\">\n",
       "  <thead>\n",
       "    <tr style=\"text-align: right;\">\n",
       "      <th></th>\n",
       "      <th>date</th>\n",
       "      <th>hour</th>\n",
       "      <th>tmp</th>\n",
       "      <th>dew</th>\n",
       "      <th>atm</th>\n",
       "    </tr>\n",
       "  </thead>\n",
       "  <tbody>\n",
       "    <tr>\n",
       "      <th>5</th>\n",
       "      <td>2023-01-01</td>\n",
       "      <td>0</td>\n",
       "      <td>10.0</td>\n",
       "      <td>9.4</td>\n",
       "      <td>1009.8</td>\n",
       "    </tr>\n",
       "    <tr>\n",
       "      <th>8</th>\n",
       "      <td>2023-01-01</td>\n",
       "      <td>1</td>\n",
       "      <td>12.8</td>\n",
       "      <td>11.7</td>\n",
       "      <td>1008.6</td>\n",
       "    </tr>\n",
       "    <tr>\n",
       "      <th>10</th>\n",
       "      <td>2023-01-01</td>\n",
       "      <td>2</td>\n",
       "      <td>12.2</td>\n",
       "      <td>11.7</td>\n",
       "      <td>1008.6</td>\n",
       "    </tr>\n",
       "    <tr>\n",
       "      <th>13</th>\n",
       "      <td>2023-01-01</td>\n",
       "      <td>3</td>\n",
       "      <td>12.8</td>\n",
       "      <td>11.1</td>\n",
       "      <td>1007.8</td>\n",
       "    </tr>\n",
       "    <tr>\n",
       "      <th>16</th>\n",
       "      <td>2023-01-01</td>\n",
       "      <td>4</td>\n",
       "      <td>12.2</td>\n",
       "      <td>11.1</td>\n",
       "      <td>1007.0</td>\n",
       "    </tr>\n",
       "  </tbody>\n",
       "</table>\n",
       "</div>"
      ],
      "text/plain": [
       "         date  hour   tmp   dew     atm\n",
       "5  2023-01-01     0  10.0   9.4  1009.8\n",
       "8  2023-01-01     1  12.8  11.7  1008.6\n",
       "10 2023-01-01     2  12.2  11.7  1008.6\n",
       "13 2023-01-01     3  12.8  11.1  1007.8\n",
       "16 2023-01-01     4  12.2  11.1  1007.0"
      ]
     },
     "execution_count": 10,
     "metadata": {},
     "output_type": "execute_result"
    }
   ],
   "source": [
    "processed_df.head()"
   ]
  },
  {
   "cell_type": "markdown",
   "metadata": {},
   "source": [
    "Writing processed dataset to `data/weather` directory"
   ]
  },
  {
   "cell_type": "code",
   "execution_count": 9,
   "metadata": {},
   "outputs": [],
   "source": [
    "processed_df.to_csv('../data/weather/hourly_weather.csv')"
   ]
  }
 ],
 "metadata": {
  "kernelspec": {
   "display_name": "Python 3.10.4 64-bit ('3.10.4')",
   "language": "python",
   "name": "python3"
  },
  "language_info": {
   "codemirror_mode": {
    "name": "ipython",
    "version": 3
   },
   "file_extension": ".py",
   "mimetype": "text/x-python",
   "name": "python",
   "nbconvert_exporter": "python",
   "pygments_lexer": "ipython3",
   "version": "3.10.4"
  },
  "orig_nbformat": 4,
  "vscode": {
   "interpreter": {
    "hash": "6857171c288a27f4076b69feee1624abed3d2b82ff763169396fbbf8c8e33653"
   }
  }
 },
 "nbformat": 4,
 "nbformat_minor": 2
}
