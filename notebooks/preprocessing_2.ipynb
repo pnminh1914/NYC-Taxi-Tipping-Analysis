{
 "cells": [
  {
   "cell_type": "code",
   "execution_count": 1,
   "metadata": {},
   "outputs": [],
   "source": [
    "import os\n",
    "os.environ['JAVA_HOME'] = '/opt/homebrew/Cellar/openjdk/22.0.2/libexec/openjdk.jdk/Contents/Home'"
   ]
  },
  {
   "cell_type": "markdown",
   "metadata": {},
   "source": [
    "## Importing libraries"
   ]
  },
  {
   "cell_type": "code",
   "execution_count": null,
   "metadata": {},
   "outputs": [],
   "source": [
    "from pyspark.sql import SparkSession\n",
    "import pandas as pd\n",
    "from pyspark.sql.types import IntegerType, StringType\n",
    "from pyspark.sql import functions as F"
   ]
  },
  {
   "cell_type": "code",
   "execution_count": 2,
   "metadata": {},
   "outputs": [
    {
     "name": "stderr",
     "output_type": "stream",
     "text": [
      "24/08/16 17:06:07 WARN Utils: Your hostname, Phams-MacBook-Pro.local resolves to a loopback address: 127.0.0.1; using 172.16.47.168 instead (on interface en0)\n",
      "24/08/16 17:06:07 WARN Utils: Set SPARK_LOCAL_IP if you need to bind to another address\n",
      "Setting default log level to \"WARN\".\n",
      "To adjust logging level use sc.setLogLevel(newLevel). For SparkR, use setLogLevel(newLevel).\n",
      "24/08/16 17:06:07 WARN NativeCodeLoader: Unable to load native-hadoop library for your platform... using builtin-java classes where applicable\n",
      "24/08/16 17:06:07 WARN Utils: Service 'SparkUI' could not bind on port 4040. Attempting port 4041.\n",
      "24/08/16 17:06:07 WARN Utils: Service 'SparkUI' could not bind on port 4041. Attempting port 4042.\n",
      "24/08/16 17:06:07 WARN Utils: Service 'SparkUI' could not bind on port 4042. Attempting port 4043.\n"
     ]
    }
   ],
   "source": [
    "# Initialize spark session\n",
    "spark = (\n",
    "    SparkSession.builder.appName(\"MAST30034 Project 1 curated data transformation\")\n",
    "    .config(\"spark.sql.repl.eagerEval.enabled\", True) \n",
    "    .config(\"spark.sql.parquet.cacheMetadata\", \"true\")\n",
    "    .config(\"spark.sql.session.timeZone\", \"Etc/UTC\")\n",
    "    .config(\"spark.driver.memory\", \"16g\") \n",
    "    .config(\"spark.executor.memory\", \"16g\")\n",
    "    .config(\"spark.driver.maxResultSize\", \"2g\")\n",
    "    .getOrCreate()\n",
    ")"
   ]
  },
  {
   "cell_type": "markdown",
   "metadata": {},
   "source": [
    "## Mapping pickup location IDs to pick up zones based on the lookup table "
   ]
  },
  {
   "cell_type": "code",
   "execution_count": 4,
   "metadata": {},
   "outputs": [],
   "source": [
    "lookup = pd.read_csv('../data/taxi_zones/taxi_zone_lookup.csv')\n",
    "lookup = lookup.dropna() # Dropping location_ids with no specific zone (outliers in lookup table)"
   ]
  },
  {
   "cell_type": "code",
   "execution_count": 5,
   "metadata": {},
   "outputs": [],
   "source": [
    "boroughs = set(lookup['Borough'])\n",
    "\n",
    "zone_mapping = {}\n",
    "\n",
    "for borough in boroughs:\n",
    "    zone_mapping[borough] = []\n",
    "\n",
    "for i in range(len(lookup['LocationID'])):\n",
    "    zone_mapping[lookup['Borough'][i]].append(lookup[\"LocationID\"][i])\n",
    "    \n",
    "location_mapping = {id: zone for zone, ids in zone_mapping.items() for id in ids}\n",
    "\n",
    "def map_location_id(location_id):\n",
    "    return location_mapping.get(location_id, \"Unknown\") # Default to \"Unknown\" if location_id not found\n",
    "\n",
    "map_location_udf = F.udf(map_location_id, StringType())"
   ]
  },
  {
   "cell_type": "markdown",
   "metadata": {},
   "source": [
    "## Processing additional features selection and data filtering\n",
    "\n",
    "1. Drop entries with PUZone or DOZone outside of NYC\n",
    "2. Drop the original datetime columns since we have retrieved needed information\n",
    "3. Filter payment_type to be 1, since cash tips are not recorded, and then drop the column since all records have same value"
   ]
  },
  {
   "cell_type": "code",
   "execution_count": 6,
   "metadata": {},
   "outputs": [
    {
     "name": "stderr",
     "output_type": "stream",
     "text": [
      "                                                                                \r"
     ]
    },
    {
     "data": {
      "text/html": [
       "<table border='1'>\n",
       "<tr><th>VendorID</th><th>passenger_count</th><th>trip_distance</th><th>RatecodeID</th><th>store_and_fwd_flag</th><th>PULocationID</th><th>DOLocationID</th><th>fare_amount</th><th>extra</th><th>mta_tax</th><th>tip_amount</th><th>tolls_amount</th><th>improvement_surcharge</th><th>total_amount</th><th>congestion_surcharge</th><th>airport_fee</th><th>trip_duration_minutes</th><th>pickup_date</th><th>pickup_hour</th><th>dropoff_date</th><th>PUZone</th><th>DOZone</th></tr>\n",
       "<tr><td>1</td><td>2.0</td><td>8.1</td><td>1.0</td><td>N</td><td>138</td><td>262</td><td>35.9</td><td>10.25</td><td>0.5</td><td>9.5</td><td>0.0</td><td>1.0</td><td>57.15</td><td>2.5</td><td>1.75</td><td>28.483333333333334</td><td>2023-05-01</td><td>0</td><td>2023-05-01</td><td>Queens</td><td>Manhattan</td></tr>\n",
       "<tr><td>1</td><td>2.0</td><td>9.1</td><td>1.0</td><td>N</td><td>138</td><td>141</td><td>35.2</td><td>10.25</td><td>0.5</td><td>10.7</td><td>6.55</td><td>1.0</td><td>64.2</td><td>2.5</td><td>1.75</td><td>17.083333333333332</td><td>2023-05-01</td><td>0</td><td>2023-05-01</td><td>Queens</td><td>Manhattan</td></tr>\n",
       "<tr><td>2</td><td>1.0</td><td>8.21</td><td>1.0</td><td>N</td><td>138</td><td>140</td><td>33.1</td><td>6.0</td><td>0.5</td><td>2.24</td><td>0.0</td><td>1.0</td><td>47.09</td><td>2.5</td><td>1.75</td><td>19.333333333333332</td><td>2023-05-01</td><td>0</td><td>2023-05-01</td><td>Queens</td><td>Manhattan</td></tr>\n",
       "<tr><td>2</td><td>1.0</td><td>9.05</td><td>1.0</td><td>N</td><td>138</td><td>116</td><td>38.0</td><td>6.0</td><td>0.5</td><td>10.76</td><td>6.55</td><td>1.0</td><td>64.56</td><td>0.0</td><td>1.75</td><td>21.583333333333332</td><td>2023-05-01</td><td>0</td><td>2023-05-01</td><td>Queens</td><td>Manhattan</td></tr>\n",
       "<tr><td>1</td><td>1.0</td><td>0.7</td><td>1.0</td><td>N</td><td>161</td><td>48</td><td>6.5</td><td>3.5</td><td>0.5</td><td>2.85</td><td>0.0</td><td>1.0</td><td>14.35</td><td>2.5</td><td>0.0</td><td>4.2</td><td>2023-05-01</td><td>0</td><td>2023-05-01</td><td>Manhattan</td><td>Manhattan</td></tr>\n",
       "<tr><td>2</td><td>1.0</td><td>14.29</td><td>1.0</td><td>N</td><td>138</td><td>13</td><td>54.1</td><td>6.0</td><td>0.5</td><td>12.82</td><td>0.0</td><td>1.0</td><td>78.67</td><td>2.5</td><td>1.75</td><td>24.866666666666667</td><td>2023-05-01</td><td>0</td><td>2023-05-01</td><td>Queens</td><td>Manhattan</td></tr>\n",
       "<tr><td>1</td><td>1.0</td><td>11.3</td><td>1.0</td><td>N</td><td>132</td><td>129</td><td>45.0</td><td>1.0</td><td>0.5</td><td>6.0</td><td>0.0</td><td>1.0</td><td>53.5</td><td>0.0</td><td>0.0</td><td>24.783333333333335</td><td>2023-05-01</td><td>0</td><td>2023-05-01</td><td>Queens</td><td>Queens</td></tr>\n",
       "<tr><td>2</td><td>1.0</td><td>1.19</td><td>1.0</td><td>N</td><td>230</td><td>100</td><td>7.2</td><td>1.0</td><td>0.5</td><td>2.44</td><td>0.0</td><td>1.0</td><td>14.64</td><td>2.5</td><td>0.0</td><td>2.966666666666667</td><td>2023-05-01</td><td>0</td><td>2023-05-01</td><td>Manhattan</td><td>Manhattan</td></tr>\n",
       "<tr><td>2</td><td>1.0</td><td>2.3</td><td>1.0</td><td>N</td><td>170</td><td>140</td><td>12.1</td><td>1.0</td><td>0.5</td><td>2.0</td><td>0.0</td><td>1.0</td><td>19.1</td><td>2.5</td><td>0.0</td><td>7.95</td><td>2023-05-01</td><td>0</td><td>2023-05-01</td><td>Manhattan</td><td>Manhattan</td></tr>\n",
       "<tr><td>2</td><td>2.0</td><td>12.81</td><td>1.0</td><td>N</td><td>138</td><td>181</td><td>49.9</td><td>6.0</td><td>0.5</td><td>17.74</td><td>0.0</td><td>1.0</td><td>76.89</td><td>0.0</td><td>1.75</td><td>22.183333333333334</td><td>2023-05-01</td><td>0</td><td>2023-05-01</td><td>Queens</td><td>Brooklyn</td></tr>\n",
       "<tr><td>1</td><td>1.0</td><td>1.9</td><td>1.0</td><td>N</td><td>162</td><td>236</td><td>10.0</td><td>3.5</td><td>0.5</td><td>2.25</td><td>0.0</td><td>1.0</td><td>17.25</td><td>2.5</td><td>0.0</td><td>5.616666666666666</td><td>2023-05-01</td><td>0</td><td>2023-05-01</td><td>Manhattan</td><td>Manhattan</td></tr>\n",
       "<tr><td>2</td><td>1.0</td><td>17.45</td><td>1.0</td><td>N</td><td>132</td><td>37</td><td>67.4</td><td>1.0</td><td>0.5</td><td>13.98</td><td>0.0</td><td>1.0</td><td>83.88</td><td>0.0</td><td>0.0</td><td>30.35</td><td>2023-05-01</td><td>0</td><td>2023-05-01</td><td>Queens</td><td>Brooklyn</td></tr>\n",
       "<tr><td>2</td><td>1.0</td><td>8.73</td><td>1.0</td><td>N</td><td>70</td><td>238</td><td>35.2</td><td>6.0</td><td>0.5</td><td>16.05</td><td>6.55</td><td>1.0</td><td>69.55</td><td>2.5</td><td>1.75</td><td>17.466666666666665</td><td>2023-05-01</td><td>0</td><td>2023-05-01</td><td>Queens</td><td>Manhattan</td></tr>\n",
       "<tr><td>1</td><td>1.0</td><td>18.2</td><td>2.0</td><td>N</td><td>132</td><td>144</td><td>70.0</td><td>4.25</td><td>0.5</td><td>10.0</td><td>0.0</td><td>1.0</td><td>85.75</td><td>2.5</td><td>1.75</td><td>30.616666666666667</td><td>2023-05-01</td><td>0</td><td>2023-05-01</td><td>Queens</td><td>Manhattan</td></tr>\n",
       "<tr><td>2</td><td>1.0</td><td>21.17</td><td>2.0</td><td>N</td><td>132</td><td>239</td><td>70.0</td><td>0.0</td><td>0.5</td><td>16.46</td><td>6.55</td><td>1.0</td><td>98.76</td><td>2.5</td><td>1.75</td><td>40.85</td><td>2023-05-01</td><td>0</td><td>2023-05-01</td><td>Queens</td><td>Manhattan</td></tr>\n",
       "<tr><td>1</td><td>1.0</td><td>9.1</td><td>1.0</td><td>N</td><td>138</td><td>232</td><td>34.5</td><td>10.25</td><td>0.5</td><td>9.25</td><td>0.0</td><td>1.0</td><td>55.5</td><td>2.5</td><td>1.75</td><td>15.583333333333334</td><td>2023-05-01</td><td>0</td><td>2023-05-01</td><td>Queens</td><td>Manhattan</td></tr>\n",
       "<tr><td>1</td><td>1.0</td><td>1.6</td><td>1.0</td><td>N</td><td>148</td><td>249</td><td>10.0</td><td>3.5</td><td>0.5</td><td>3.0</td><td>0.0</td><td>1.0</td><td>18.0</td><td>2.5</td><td>0.0</td><td>11.333333333333334</td><td>2023-05-01</td><td>0</td><td>2023-05-01</td><td>Manhattan</td><td>Manhattan</td></tr>\n",
       "<tr><td>2</td><td>1.0</td><td>3.24</td><td>1.0</td><td>N</td><td>186</td><td>4</td><td>17.0</td><td>1.0</td><td>0.5</td><td>5.0</td><td>0.0</td><td>1.0</td><td>27.0</td><td>2.5</td><td>0.0</td><td>13.55</td><td>2023-05-01</td><td>0</td><td>2023-05-01</td><td>Manhattan</td><td>Manhattan</td></tr>\n",
       "<tr><td>1</td><td>2.0</td><td>18.5</td><td>1.0</td><td>N</td><td>132</td><td>97</td><td>70.2</td><td>1.0</td><td>0.5</td><td>0.0</td><td>0.0</td><td>1.0</td><td>72.7</td><td>0.0</td><td>0.0</td><td>31.966666666666665</td><td>2023-05-01</td><td>0</td><td>2023-05-01</td><td>Queens</td><td>Brooklyn</td></tr>\n",
       "<tr><td>1</td><td>1.0</td><td>19.1</td><td>1.0</td><td>N</td><td>132</td><td>97</td><td>70.9</td><td>2.75</td><td>0.5</td><td>10.0</td><td>0.0</td><td>1.0</td><td>85.15</td><td>0.0</td><td>1.75</td><td>30.083333333333332</td><td>2023-05-01</td><td>0</td><td>2023-05-01</td><td>Queens</td><td>Brooklyn</td></tr>\n",
       "</table>\n"
      ],
      "text/plain": [
       "+--------+---------------+-------------+----------+------------------+------------+------------+-----------+-----+-------+----------+------------+---------------------+------------+--------------------+-----------+---------------------+-----------+-----------+------------+---------+---------+\n",
       "|VendorID|passenger_count|trip_distance|RatecodeID|store_and_fwd_flag|PULocationID|DOLocationID|fare_amount|extra|mta_tax|tip_amount|tolls_amount|improvement_surcharge|total_amount|congestion_surcharge|airport_fee|trip_duration_minutes|pickup_date|pickup_hour|dropoff_date|   PUZone|   DOZone|\n",
       "+--------+---------------+-------------+----------+------------------+------------+------------+-----------+-----+-------+----------+------------+---------------------+------------+--------------------+-----------+---------------------+-----------+-----------+------------+---------+---------+\n",
       "|       1|            2.0|          8.1|       1.0|                 N|         138|         262|       35.9|10.25|    0.5|       9.5|         0.0|                  1.0|       57.15|                 2.5|       1.75|   28.483333333333334| 2023-05-01|          0|  2023-05-01|   Queens|Manhattan|\n",
       "|       1|            2.0|          9.1|       1.0|                 N|         138|         141|       35.2|10.25|    0.5|      10.7|        6.55|                  1.0|        64.2|                 2.5|       1.75|   17.083333333333332| 2023-05-01|          0|  2023-05-01|   Queens|Manhattan|\n",
       "|       2|            1.0|         8.21|       1.0|                 N|         138|         140|       33.1|  6.0|    0.5|      2.24|         0.0|                  1.0|       47.09|                 2.5|       1.75|   19.333333333333332| 2023-05-01|          0|  2023-05-01|   Queens|Manhattan|\n",
       "|       2|            1.0|         9.05|       1.0|                 N|         138|         116|       38.0|  6.0|    0.5|     10.76|        6.55|                  1.0|       64.56|                 0.0|       1.75|   21.583333333333332| 2023-05-01|          0|  2023-05-01|   Queens|Manhattan|\n",
       "|       1|            1.0|          0.7|       1.0|                 N|         161|          48|        6.5|  3.5|    0.5|      2.85|         0.0|                  1.0|       14.35|                 2.5|        0.0|                  4.2| 2023-05-01|          0|  2023-05-01|Manhattan|Manhattan|\n",
       "|       2|            1.0|        14.29|       1.0|                 N|         138|          13|       54.1|  6.0|    0.5|     12.82|         0.0|                  1.0|       78.67|                 2.5|       1.75|   24.866666666666667| 2023-05-01|          0|  2023-05-01|   Queens|Manhattan|\n",
       "|       1|            1.0|         11.3|       1.0|                 N|         132|         129|       45.0|  1.0|    0.5|       6.0|         0.0|                  1.0|        53.5|                 0.0|        0.0|   24.783333333333335| 2023-05-01|          0|  2023-05-01|   Queens|   Queens|\n",
       "|       2|            1.0|         1.19|       1.0|                 N|         230|         100|        7.2|  1.0|    0.5|      2.44|         0.0|                  1.0|       14.64|                 2.5|        0.0|    2.966666666666667| 2023-05-01|          0|  2023-05-01|Manhattan|Manhattan|\n",
       "|       2|            1.0|          2.3|       1.0|                 N|         170|         140|       12.1|  1.0|    0.5|       2.0|         0.0|                  1.0|        19.1|                 2.5|        0.0|                 7.95| 2023-05-01|          0|  2023-05-01|Manhattan|Manhattan|\n",
       "|       2|            2.0|        12.81|       1.0|                 N|         138|         181|       49.9|  6.0|    0.5|     17.74|         0.0|                  1.0|       76.89|                 0.0|       1.75|   22.183333333333334| 2023-05-01|          0|  2023-05-01|   Queens| Brooklyn|\n",
       "|       1|            1.0|          1.9|       1.0|                 N|         162|         236|       10.0|  3.5|    0.5|      2.25|         0.0|                  1.0|       17.25|                 2.5|        0.0|    5.616666666666666| 2023-05-01|          0|  2023-05-01|Manhattan|Manhattan|\n",
       "|       2|            1.0|        17.45|       1.0|                 N|         132|          37|       67.4|  1.0|    0.5|     13.98|         0.0|                  1.0|       83.88|                 0.0|        0.0|                30.35| 2023-05-01|          0|  2023-05-01|   Queens| Brooklyn|\n",
       "|       2|            1.0|         8.73|       1.0|                 N|          70|         238|       35.2|  6.0|    0.5|     16.05|        6.55|                  1.0|       69.55|                 2.5|       1.75|   17.466666666666665| 2023-05-01|          0|  2023-05-01|   Queens|Manhattan|\n",
       "|       1|            1.0|         18.2|       2.0|                 N|         132|         144|       70.0| 4.25|    0.5|      10.0|         0.0|                  1.0|       85.75|                 2.5|       1.75|   30.616666666666667| 2023-05-01|          0|  2023-05-01|   Queens|Manhattan|\n",
       "|       2|            1.0|        21.17|       2.0|                 N|         132|         239|       70.0|  0.0|    0.5|     16.46|        6.55|                  1.0|       98.76|                 2.5|       1.75|                40.85| 2023-05-01|          0|  2023-05-01|   Queens|Manhattan|\n",
       "|       1|            1.0|          9.1|       1.0|                 N|         138|         232|       34.5|10.25|    0.5|      9.25|         0.0|                  1.0|        55.5|                 2.5|       1.75|   15.583333333333334| 2023-05-01|          0|  2023-05-01|   Queens|Manhattan|\n",
       "|       1|            1.0|          1.6|       1.0|                 N|         148|         249|       10.0|  3.5|    0.5|       3.0|         0.0|                  1.0|        18.0|                 2.5|        0.0|   11.333333333333334| 2023-05-01|          0|  2023-05-01|Manhattan|Manhattan|\n",
       "|       2|            1.0|         3.24|       1.0|                 N|         186|           4|       17.0|  1.0|    0.5|       5.0|         0.0|                  1.0|        27.0|                 2.5|        0.0|                13.55| 2023-05-01|          0|  2023-05-01|Manhattan|Manhattan|\n",
       "|       1|            2.0|         18.5|       1.0|                 N|         132|          97|       70.2|  1.0|    0.5|       0.0|         0.0|                  1.0|        72.7|                 0.0|        0.0|   31.966666666666665| 2023-05-01|          0|  2023-05-01|   Queens| Brooklyn|\n",
       "|       1|            1.0|         19.1|       1.0|                 N|         132|          97|       70.9| 2.75|    0.5|      10.0|         0.0|                  1.0|       85.15|                 0.0|       1.75|   30.083333333333332| 2023-05-01|          0|  2023-05-01|   Queens| Brooklyn|\n",
       "+--------+---------------+-------------+----------+------------------+------------+------------+-----------+-----+-------+----------+------------+---------------------+------------+--------------------+-----------+---------------------+-----------+-----------+------------+---------+---------+"
      ]
     },
     "execution_count": 6,
     "metadata": {},
     "output_type": "execute_result"
    }
   ],
   "source": [
    "processed_df = spark.read.parquet('../data/raw/')\n",
    "\n",
    "mapped_df = processed_df.withColumn(\"PUZone\", map_location_udf(F.col(\"PULocationID\"))) \\\n",
    "                        .withColumn(\"DOZone\", map_location_udf(F.col(\"DOLocationID\"))) \\\n",
    "                        .filter((F.col('PUZone') != 'Unknown') & (F.col('DOZone') != 'Unknown')) \\\n",
    "                        .drop('tpep_pickup_datetime') \\\n",
    "                        .drop('tpep_dropoff_datetime') \\\n",
    "                        .filter(F.col('payment_type') == 1) \\\n",
    "                        .drop('payment_type')\n",
    "\n",
    "mapped_df.limit(20)"
   ]
  },
  {
   "cell_type": "markdown",
   "metadata": {},
   "source": [
    "## Merging processed trip records dataset with processed weather dataset"
   ]
  },
  {
   "cell_type": "code",
   "execution_count": 7,
   "metadata": {},
   "outputs": [],
   "source": [
    "taxi_data = mapped_df.withColumn('pickup_date', F.to_timestamp('pickup_date'))\n",
    "\n",
    "weather_data = spark.read.csv('../data/weather/hourly_weather.csv', header=True, inferSchema=True)\n",
    "weather_data = weather_data.drop(F.col('_c0')) # Drop index column of weather data\n",
    "\n",
    "weather_data = weather_data.withColumn('date', F.to_timestamp('date'))\n",
    "\n",
    "# Perform the inner join operation\n",
    "merged_data = taxi_data.join(\n",
    "    weather_data,\n",
    "    (taxi_data['pickup_date'] == weather_data['date']) & (taxi_data['pickup_hour'] == weather_data['hour']),\n",
    "    how='inner'\n",
    ")"
   ]
  },
  {
   "cell_type": "markdown",
   "metadata": {},
   "source": [
    "Writing data in to `data/curated` directory"
   ]
  },
  {
   "cell_type": "code",
   "execution_count": null,
   "metadata": {},
   "outputs": [],
   "source": [
    "output_dir = '../data/curated/'\n",
    "\n",
    "if not os.path.exists(output_dir):\n",
    "    os.makedirs(output_dir)"
   ]
  },
  {
   "cell_type": "code",
   "execution_count": 8,
   "metadata": {},
   "outputs": [
    {
     "name": "stderr",
     "output_type": "stream",
     "text": [
      "24/08/16 17:06:13 WARN SparkStringUtils: Truncated the string representation of a plan since it was too large. This behavior can be adjusted by setting 'spark.sql.debug.maxToStringFields'.\n",
      "24/08/16 17:06:24 WARN GarbageCollectionMetrics: To enable non-built-in garbage collector(s) List(G1 Concurrent GC), users should configure it(them) to spark.eventLog.gcMetrics.youngGenerationGarbageCollectors or spark.eventLog.gcMetrics.oldGenerationGarbageCollectors\n",
      "                                                                                \r"
     ]
    }
   ],
   "source": [
    "merged_data.write.mode(\"overwrite\").parquet(f\"{output_dir}\")"
   ]
  }
 ],
 "metadata": {
  "kernelspec": {
   "display_name": "Python 3.10.4 64-bit ('3.10.4')",
   "language": "python",
   "name": "python3"
  },
  "language_info": {
   "codemirror_mode": {
    "name": "ipython",
    "version": 3
   },
   "file_extension": ".py",
   "mimetype": "text/x-python",
   "name": "python",
   "nbconvert_exporter": "python",
   "pygments_lexer": "ipython3",
   "version": "3.10.4"
  },
  "orig_nbformat": 4,
  "vscode": {
   "interpreter": {
    "hash": "6857171c288a27f4076b69feee1624abed3d2b82ff763169396fbbf8c8e33653"
   }
  }
 },
 "nbformat": 4,
 "nbformat_minor": 2
}
